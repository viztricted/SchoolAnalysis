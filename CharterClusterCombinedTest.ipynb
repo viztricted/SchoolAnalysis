{
 "cells": [
  {
   "cell_type": "markdown",
   "metadata": {},
   "source": [
    "# Charter school cluster analysis "
   ]
  },
  {
   "cell_type": "markdown",
   "metadata": {},
   "source": [
    "This notebook walks through an approach to conducting a cluster analysis on schools in Washington state.  I am still learning and I'm sure there are many ways to streamline the work or come up with better ways, deeper data and more insights to be gained.  Any and all feedback is welcome and appreciated"
   ]
  },
  {
   "cell_type": "code",
   "execution_count": 184,
   "metadata": {},
   "outputs": [],
   "source": [
    "# Set environment for analysis\n",
    "# Imports\n",
    "import os\n",
    "import pandas as pd\n",
    "from sklearn.cluster import KMeans\n",
    "import matplotlib.pyplot as plt\n",
    "import seaborn as sns\n",
    "import numpy as np\n",
    "\n",
    "# Set Directory\n",
    "os.chdir('C:\\\\Users\\\\ted\\\\OneDrive - Viztric\\\\Clients\\\\Gates Foundation\\\\charter schools\\\\CharterData\\\\Yearly School District State Dataset\\\\')"
   ]
  },
  {
   "cell_type": "code",
   "execution_count": 185,
   "metadata": {},
   "outputs": [],
   "source": [
    "#Import data from CSV file as created by Eric\n",
    "\n",
    "df0 = pd.read_csv('Yearly School District State Dataset thinner.csv')\n",
    "#display(df.head())"
   ]
  },
  {
   "cell_type": "markdown",
   "metadata": {},
   "source": [
    "The next step is to filter the records in order to get a more distinct subset of data to model as a first pass.  To limit the scope the data is limited to \"Organization Grade Level\" of AllGrades, 2018-19 School year and groupings of Students of Color (SoC) and Low Income.  The goal is to create a dataset with only one record per school resulting in a cluster of schools.  Other grades or other categories can be included but I believe would need to be added as columns in order to create one record per school.  If we have more than one row per school, the cluster would be built off of the lower grain and is more difficult to interpret.  (at least to me at this point)"
   ]
  },
  {
   "cell_type": "code",
   "execution_count": 186,
   "metadata": {},
   "outputs": [
    {
     "data": {
      "text/html": [
       "<div>\n",
       "<style scoped>\n",
       "    .dataframe tbody tr th:only-of-type {\n",
       "        vertical-align: middle;\n",
       "    }\n",
       "\n",
       "    .dataframe tbody tr th {\n",
       "        vertical-align: top;\n",
       "    }\n",
       "\n",
       "    .dataframe thead th {\n",
       "        text-align: right;\n",
       "    }\n",
       "</style>\n",
       "<table border=\"1\" class=\"dataframe\">\n",
       "  <thead>\n",
       "    <tr style=\"text-align: right;\">\n",
       "      <th></th>\n",
       "      <th>LEA Code</th>\n",
       "      <th>LEA Name</th>\n",
       "      <th>School Code</th>\n",
       "      <th>School Name</th>\n",
       "      <th>School Year</th>\n",
       "      <th>Organization Grade Level</th>\n",
       "      <th>Student Group</th>\n",
       "      <th>Student Group Category</th>\n",
       "      <th>Enrollment Percent Num</th>\n",
       "      <th>Enrollment Percent Den</th>\n",
       "      <th>...</th>\n",
       "      <th>SBA ELA 3Y Average Percent Num</th>\n",
       "      <th>SBA ELA 3Y Average Percent Den</th>\n",
       "      <th>SBA ELA 3Y Average Percent</th>\n",
       "      <th>SBA Math Met Percent Num</th>\n",
       "      <th>SBA Math Met Percent Den</th>\n",
       "      <th>SBA Math Percent Met</th>\n",
       "      <th>SBA Math 3Y Average Percent Num</th>\n",
       "      <th>SBA Math 3Y Average Percent Den</th>\n",
       "      <th>SBA Math 3Y Average Percent</th>\n",
       "      <th>Charter School?</th>\n",
       "    </tr>\n",
       "  </thead>\n",
       "  <tbody>\n",
       "    <tr>\n",
       "      <th>1765</th>\n",
       "      <td>1147</td>\n",
       "      <td>Othello School District</td>\n",
       "      <td>2902</td>\n",
       "      <td>Lutacaga Elementary</td>\n",
       "      <td>2018-19</td>\n",
       "      <td>AllGrades</td>\n",
       "      <td>Low-Income</td>\n",
       "      <td>Student Demographics</td>\n",
       "      <td>573</td>\n",
       "      <td>642</td>\n",
       "      <td>...</td>\n",
       "      <td>56.66667</td>\n",
       "      <td>257.3333</td>\n",
       "      <td>0.220207</td>\n",
       "      <td>94</td>\n",
       "      <td>304</td>\n",
       "      <td>0.309210</td>\n",
       "      <td>76.66666</td>\n",
       "      <td>257.0000</td>\n",
       "      <td>0.298314</td>\n",
       "      <td>No</td>\n",
       "    </tr>\n",
       "    <tr>\n",
       "      <th>1773</th>\n",
       "      <td>1147</td>\n",
       "      <td>Othello School District</td>\n",
       "      <td>2902</td>\n",
       "      <td>Lutacaga Elementary</td>\n",
       "      <td>2018-19</td>\n",
       "      <td>AllGrades</td>\n",
       "      <td>SoC</td>\n",
       "      <td>Race</td>\n",
       "      <td>615</td>\n",
       "      <td>642</td>\n",
       "      <td>...</td>\n",
       "      <td>71.66666</td>\n",
       "      <td>286.6667</td>\n",
       "      <td>0.250000</td>\n",
       "      <td>112</td>\n",
       "      <td>327</td>\n",
       "      <td>0.342508</td>\n",
       "      <td>98.66666</td>\n",
       "      <td>286.3333</td>\n",
       "      <td>0.344587</td>\n",
       "      <td>No</td>\n",
       "    </tr>\n",
       "    <tr>\n",
       "      <th>1774</th>\n",
       "      <td>1147</td>\n",
       "      <td>Othello School District</td>\n",
       "      <td>2902</td>\n",
       "      <td>Lutacaga Elementary</td>\n",
       "      <td>2018-19</td>\n",
       "      <td>AllGrades</td>\n",
       "      <td>SoC</td>\n",
       "      <td>SoC</td>\n",
       "      <td>615</td>\n",
       "      <td>642</td>\n",
       "      <td>...</td>\n",
       "      <td>71.66666</td>\n",
       "      <td>286.6667</td>\n",
       "      <td>0.250000</td>\n",
       "      <td>112</td>\n",
       "      <td>327</td>\n",
       "      <td>0.342508</td>\n",
       "      <td>98.66666</td>\n",
       "      <td>286.3333</td>\n",
       "      <td>0.344587</td>\n",
       "      <td>No</td>\n",
       "    </tr>\n",
       "    <tr>\n",
       "      <th>1937</th>\n",
       "      <td>1147</td>\n",
       "      <td>Othello School District</td>\n",
       "      <td>2961</td>\n",
       "      <td>Hiawatha Elementary School</td>\n",
       "      <td>2018-19</td>\n",
       "      <td>AllGrades</td>\n",
       "      <td>Low-Income</td>\n",
       "      <td>Student Demographics</td>\n",
       "      <td>550</td>\n",
       "      <td>627</td>\n",
       "      <td>...</td>\n",
       "      <td>79.66666</td>\n",
       "      <td>277.6667</td>\n",
       "      <td>0.286915</td>\n",
       "      <td>111</td>\n",
       "      <td>342</td>\n",
       "      <td>0.324561</td>\n",
       "      <td>95.66666</td>\n",
       "      <td>278.0000</td>\n",
       "      <td>0.344125</td>\n",
       "      <td>No</td>\n",
       "    </tr>\n",
       "    <tr>\n",
       "      <th>1955</th>\n",
       "      <td>1147</td>\n",
       "      <td>Othello School District</td>\n",
       "      <td>2961</td>\n",
       "      <td>Hiawatha Elementary School</td>\n",
       "      <td>2018-19</td>\n",
       "      <td>AllGrades</td>\n",
       "      <td>SoC</td>\n",
       "      <td>Race</td>\n",
       "      <td>553</td>\n",
       "      <td>627</td>\n",
       "      <td>...</td>\n",
       "      <td>77.33334</td>\n",
       "      <td>274.3333</td>\n",
       "      <td>0.281896</td>\n",
       "      <td>99</td>\n",
       "      <td>331</td>\n",
       "      <td>0.299094</td>\n",
       "      <td>94.00000</td>\n",
       "      <td>274.6667</td>\n",
       "      <td>0.342233</td>\n",
       "      <td>No</td>\n",
       "    </tr>\n",
       "  </tbody>\n",
       "</table>\n",
       "<p>5 rows × 26 columns</p>\n",
       "</div>"
      ],
      "text/plain": [
       "      LEA Code                 LEA Name  School Code  \\\n",
       "1765      1147  Othello School District         2902   \n",
       "1773      1147  Othello School District         2902   \n",
       "1774      1147  Othello School District         2902   \n",
       "1937      1147  Othello School District         2961   \n",
       "1955      1147  Othello School District         2961   \n",
       "\n",
       "                     School Name School Year Organization Grade Level  \\\n",
       "1765         Lutacaga Elementary     2018-19                AllGrades   \n",
       "1773         Lutacaga Elementary     2018-19                AllGrades   \n",
       "1774         Lutacaga Elementary     2018-19                AllGrades   \n",
       "1937  Hiawatha Elementary School     2018-19                AllGrades   \n",
       "1955  Hiawatha Elementary School     2018-19                AllGrades   \n",
       "\n",
       "     Student Group Student Group Category  Enrollment Percent Num  \\\n",
       "1765    Low-Income   Student Demographics                     573   \n",
       "1773           SoC                   Race                     615   \n",
       "1774           SoC                    SoC                     615   \n",
       "1937    Low-Income   Student Demographics                     550   \n",
       "1955           SoC                   Race                     553   \n",
       "\n",
       "      Enrollment Percent Den  ...  SBA ELA 3Y Average Percent Num  \\\n",
       "1765                     642  ...                        56.66667   \n",
       "1773                     642  ...                        71.66666   \n",
       "1774                     642  ...                        71.66666   \n",
       "1937                     627  ...                        79.66666   \n",
       "1955                     627  ...                        77.33334   \n",
       "\n",
       "      SBA ELA 3Y Average Percent Den  SBA ELA 3Y Average Percent  \\\n",
       "1765                        257.3333                    0.220207   \n",
       "1773                        286.6667                    0.250000   \n",
       "1774                        286.6667                    0.250000   \n",
       "1937                        277.6667                    0.286915   \n",
       "1955                        274.3333                    0.281896   \n",
       "\n",
       "      SBA Math Met Percent Num  SBA Math Met Percent Den  \\\n",
       "1765                        94                       304   \n",
       "1773                       112                       327   \n",
       "1774                       112                       327   \n",
       "1937                       111                       342   \n",
       "1955                        99                       331   \n",
       "\n",
       "      SBA Math Percent Met  SBA Math 3Y Average Percent Num  \\\n",
       "1765              0.309210                         76.66666   \n",
       "1773              0.342508                         98.66666   \n",
       "1774              0.342508                         98.66666   \n",
       "1937              0.324561                         95.66666   \n",
       "1955              0.299094                         94.00000   \n",
       "\n",
       "      SBA Math 3Y Average Percent Den  SBA Math 3Y Average Percent  \\\n",
       "1765                         257.0000                     0.298314   \n",
       "1773                         286.3333                     0.344587   \n",
       "1774                         286.3333                     0.344587   \n",
       "1937                         278.0000                     0.344125   \n",
       "1955                         274.6667                     0.342233   \n",
       "\n",
       "      Charter School?  \n",
       "1765               No  \n",
       "1773               No  \n",
       "1774               No  \n",
       "1937               No  \n",
       "1955               No  \n",
       "\n",
       "[5 rows x 26 columns]"
      ]
     },
     "execution_count": 186,
     "metadata": {},
     "output_type": "execute_result"
    }
   ],
   "source": [
    "df_allgrades=[]\n",
    "df_allgrades = df0[(df0['Organization Grade Level']=='AllGrades') & (df0['School Year']=='2018-19')\n",
    "                   & (df0['Student Group'].isin(['Low-Income','SoC'])) ]\n",
    "               \n",
    "df_allgrades.head()"
   ]
  },
  {
   "cell_type": "markdown",
   "metadata": {},
   "source": [
    "Create Enrollment Percent column.  There is an error warning I need to investigate how to resolve."
   ]
  },
  {
   "cell_type": "code",
   "execution_count": 187,
   "metadata": {},
   "outputs": [
    {
     "name": "stderr",
     "output_type": "stream",
     "text": [
      "C:\\Users\\ted\\Anaconda3\\lib\\site-packages\\ipykernel_launcher.py:1: SettingWithCopyWarning:\n",
      "\n",
      "\n",
      "A value is trying to be set on a copy of a slice from a DataFrame.\n",
      "Try using .loc[row_indexer,col_indexer] = value instead\n",
      "\n",
      "See the caveats in the documentation: https://pandas.pydata.org/pandas-docs/stable/user_guide/indexing.html#returning-a-view-versus-a-copy\n",
      "\n"
     ]
    }
   ],
   "source": [
    "df_allgrades['Enrollment Percent'] = df_allgrades['Enrollment Percent Num']/df_allgrades['Enrollment Percent Den']"
   ]
  },
  {
   "cell_type": "markdown",
   "metadata": {},
   "source": [
    "Create a smaller, thinner, dataset"
   ]
  },
  {
   "cell_type": "code",
   "execution_count": 188,
   "metadata": {},
   "outputs": [
    {
     "data": {
      "text/html": [
       "<div>\n",
       "<style scoped>\n",
       "    .dataframe tbody tr th:only-of-type {\n",
       "        vertical-align: middle;\n",
       "    }\n",
       "\n",
       "    .dataframe tbody tr th {\n",
       "        vertical-align: top;\n",
       "    }\n",
       "\n",
       "    .dataframe thead th {\n",
       "        text-align: right;\n",
       "    }\n",
       "</style>\n",
       "<table border=\"1\" class=\"dataframe\">\n",
       "  <thead>\n",
       "    <tr style=\"text-align: right;\">\n",
       "      <th></th>\n",
       "      <th>School Code</th>\n",
       "      <th>Student Group</th>\n",
       "      <th>Enrollment Percent</th>\n",
       "      <th>SBA ELA 3Y Average Percent</th>\n",
       "      <th>SBA Math 3Y Average Percent</th>\n",
       "    </tr>\n",
       "  </thead>\n",
       "  <tbody>\n",
       "    <tr>\n",
       "      <th>1765</th>\n",
       "      <td>2902</td>\n",
       "      <td>Low-Income</td>\n",
       "      <td>0.892523</td>\n",
       "      <td>0.220207</td>\n",
       "      <td>0.298314</td>\n",
       "    </tr>\n",
       "    <tr>\n",
       "      <th>1773</th>\n",
       "      <td>2902</td>\n",
       "      <td>SoC</td>\n",
       "      <td>0.957944</td>\n",
       "      <td>0.250000</td>\n",
       "      <td>0.344587</td>\n",
       "    </tr>\n",
       "    <tr>\n",
       "      <th>1774</th>\n",
       "      <td>2902</td>\n",
       "      <td>SoC</td>\n",
       "      <td>0.957944</td>\n",
       "      <td>0.250000</td>\n",
       "      <td>0.344587</td>\n",
       "    </tr>\n",
       "    <tr>\n",
       "      <th>1937</th>\n",
       "      <td>2961</td>\n",
       "      <td>Low-Income</td>\n",
       "      <td>0.877193</td>\n",
       "      <td>0.286915</td>\n",
       "      <td>0.344125</td>\n",
       "    </tr>\n",
       "    <tr>\n",
       "      <th>1955</th>\n",
       "      <td>2961</td>\n",
       "      <td>SoC</td>\n",
       "      <td>0.881978</td>\n",
       "      <td>0.281896</td>\n",
       "      <td>0.342233</td>\n",
       "    </tr>\n",
       "  </tbody>\n",
       "</table>\n",
       "</div>"
      ],
      "text/plain": [
       "      School Code Student Group  Enrollment Percent  \\\n",
       "1765         2902    Low-Income            0.892523   \n",
       "1773         2902           SoC            0.957944   \n",
       "1774         2902           SoC            0.957944   \n",
       "1937         2961    Low-Income            0.877193   \n",
       "1955         2961           SoC            0.881978   \n",
       "\n",
       "      SBA ELA 3Y Average Percent  SBA Math 3Y Average Percent  \n",
       "1765                    0.220207                     0.298314  \n",
       "1773                    0.250000                     0.344587  \n",
       "1774                    0.250000                     0.344587  \n",
       "1937                    0.286915                     0.344125  \n",
       "1955                    0.281896                     0.342233  "
      ]
     },
     "execution_count": 188,
     "metadata": {},
     "output_type": "execute_result"
    }
   ],
   "source": [
    "df_allgrades_thin= df_allgrades[['School Code', 'Student Group','Enrollment Percent','SBA ELA 3Y Average Percent','SBA Math 3Y Average Percent']]\n",
    "df_allgrades_thin.head()"
   ]
  },
  {
   "cell_type": "code",
   "execution_count": 189,
   "metadata": {
    "scrolled": true
   },
   "outputs": [
    {
     "data": {
      "text/html": [
       "<div>\n",
       "<style scoped>\n",
       "    .dataframe tbody tr th:only-of-type {\n",
       "        vertical-align: middle;\n",
       "    }\n",
       "\n",
       "    .dataframe tbody tr th {\n",
       "        vertical-align: top;\n",
       "    }\n",
       "\n",
       "    .dataframe thead th {\n",
       "        text-align: right;\n",
       "    }\n",
       "</style>\n",
       "<table border=\"1\" class=\"dataframe\">\n",
       "  <thead>\n",
       "    <tr style=\"text-align: right;\">\n",
       "      <th></th>\n",
       "      <th>School Code</th>\n",
       "      <th>Student Group</th>\n",
       "      <th>Enrollment Percent</th>\n",
       "      <th>SBA ELA 3Y Average Percent</th>\n",
       "      <th>SBA Math 3Y Average Percent</th>\n",
       "    </tr>\n",
       "  </thead>\n",
       "  <tbody>\n",
       "    <tr>\n",
       "      <th>1765</th>\n",
       "      <td>2902</td>\n",
       "      <td>Low-Income</td>\n",
       "      <td>0.892523</td>\n",
       "      <td>0.220207</td>\n",
       "      <td>0.298314</td>\n",
       "    </tr>\n",
       "    <tr>\n",
       "      <th>1773</th>\n",
       "      <td>2902</td>\n",
       "      <td>SoC</td>\n",
       "      <td>0.957944</td>\n",
       "      <td>0.250000</td>\n",
       "      <td>0.344587</td>\n",
       "    </tr>\n",
       "    <tr>\n",
       "      <th>1937</th>\n",
       "      <td>2961</td>\n",
       "      <td>Low-Income</td>\n",
       "      <td>0.877193</td>\n",
       "      <td>0.286915</td>\n",
       "      <td>0.344125</td>\n",
       "    </tr>\n",
       "    <tr>\n",
       "      <th>1955</th>\n",
       "      <td>2961</td>\n",
       "      <td>SoC</td>\n",
       "      <td>0.881978</td>\n",
       "      <td>0.281896</td>\n",
       "      <td>0.342233</td>\n",
       "    </tr>\n",
       "    <tr>\n",
       "      <th>2022</th>\n",
       "      <td>3015</td>\n",
       "      <td>Low-Income</td>\n",
       "      <td>0.798748</td>\n",
       "      <td>0.438596</td>\n",
       "      <td>0.135566</td>\n",
       "    </tr>\n",
       "    <tr>\n",
       "      <th>...</th>\n",
       "      <td>...</td>\n",
       "      <td>...</td>\n",
       "      <td>...</td>\n",
       "      <td>...</td>\n",
       "      <td>...</td>\n",
       "    </tr>\n",
       "    <tr>\n",
       "      <th>297250</th>\n",
       "      <td>4506</td>\n",
       "      <td>Low-Income</td>\n",
       "      <td>0.515358</td>\n",
       "      <td>0.487603</td>\n",
       "      <td>0.382255</td>\n",
       "    </tr>\n",
       "    <tr>\n",
       "      <th>297259</th>\n",
       "      <td>4506</td>\n",
       "      <td>SoC</td>\n",
       "      <td>0.443686</td>\n",
       "      <td>0.530195</td>\n",
       "      <td>0.438398</td>\n",
       "    </tr>\n",
       "    <tr>\n",
       "      <th>297350</th>\n",
       "      <td>2389</td>\n",
       "      <td>SoC</td>\n",
       "      <td>0.937500</td>\n",
       "      <td>0.129794</td>\n",
       "      <td>0.091445</td>\n",
       "    </tr>\n",
       "    <tr>\n",
       "      <th>297532</th>\n",
       "      <td>2506</td>\n",
       "      <td>SoC</td>\n",
       "      <td>0.947955</td>\n",
       "      <td>0.146958</td>\n",
       "      <td>0.158257</td>\n",
       "    </tr>\n",
       "    <tr>\n",
       "      <th>297582</th>\n",
       "      <td>2532</td>\n",
       "      <td>SoC</td>\n",
       "      <td>0.974576</td>\n",
       "      <td>0.351648</td>\n",
       "      <td>NaN</td>\n",
       "    </tr>\n",
       "  </tbody>\n",
       "</table>\n",
       "<p>3338 rows × 5 columns</p>\n",
       "</div>"
      ],
      "text/plain": [
       "        School Code Student Group  Enrollment Percent  \\\n",
       "1765           2902    Low-Income            0.892523   \n",
       "1773           2902           SoC            0.957944   \n",
       "1937           2961    Low-Income            0.877193   \n",
       "1955           2961           SoC            0.881978   \n",
       "2022           3015    Low-Income            0.798748   \n",
       "...             ...           ...                 ...   \n",
       "297250         4506    Low-Income            0.515358   \n",
       "297259         4506           SoC            0.443686   \n",
       "297350         2389           SoC            0.937500   \n",
       "297532         2506           SoC            0.947955   \n",
       "297582         2532           SoC            0.974576   \n",
       "\n",
       "        SBA ELA 3Y Average Percent  SBA Math 3Y Average Percent  \n",
       "1765                      0.220207                     0.298314  \n",
       "1773                      0.250000                     0.344587  \n",
       "1937                      0.286915                     0.344125  \n",
       "1955                      0.281896                     0.342233  \n",
       "2022                      0.438596                     0.135566  \n",
       "...                            ...                          ...  \n",
       "297250                    0.487603                     0.382255  \n",
       "297259                    0.530195                     0.438398  \n",
       "297350                    0.129794                     0.091445  \n",
       "297532                    0.146958                     0.158257  \n",
       "297582                    0.351648                          NaN  \n",
       "\n",
       "[3338 rows x 5 columns]"
      ]
     },
     "execution_count": 189,
     "metadata": {},
     "output_type": "execute_result"
    }
   ],
   "source": [
    "#drop any duplicate records from dataset - Will delete those that may be remnants from columns that have been removed\n",
    "df_allgrades_thin.drop_duplicates()"
   ]
  },
  {
   "cell_type": "markdown",
   "metadata": {},
   "source": [
    "Student Group is pivoted to columns to get dataset to one row per School.  School Code is set as the index, effectively removing it from the results enabling the use of only features for PCA and cluster analysis"
   ]
  },
  {
   "cell_type": "code",
   "execution_count": null,
   "metadata": {},
   "outputs": [],
   "source": [
    "pivot = df_allgrades_thin.pivot_table(columns='Student Group',index='School Code'\n",
    "                             , values=['Enrollment Percent','SBA ELA 3Y Average Percent','SBA Math 3Y Average Percent']).fillna(0)\n",
    "pivot.head()"
   ]
  },
  {
   "cell_type": "markdown",
   "metadata": {},
   "source": [
    "After pivoting, the column names are hierarchical and need to be combined into one column for ease of use (and that I can't figure out how filter data with combined column names)"
   ]
  },
  {
   "cell_type": "code",
   "execution_count": null,
   "metadata": {},
   "outputs": [],
   "source": [
    "pivot.columns = [\"_\".join((j,k)) for j,k in pivot.columns]\n",
    "pivot.reset_index()"
   ]
  },
  {
   "cell_type": "markdown",
   "metadata": {},
   "source": [
    "The pivoted data frame \"pivot\" is assigned to the df dataframe because df was used in subsequent view created in past iterations and rather than change all reference, I assigned back to df"
   ]
  },
  {
   "cell_type": "code",
   "execution_count": null,
   "metadata": {},
   "outputs": [],
   "source": [
    "df=pivot"
   ]
  },
  {
   "cell_type": "code",
   "execution_count": null,
   "metadata": {},
   "outputs": [],
   "source": [
    "#confirming proper column names and using to cut and paste into lower step\n",
    "df.columns\n"
   ]
  },
  {
   "cell_type": "markdown",
   "metadata": {},
   "source": [
    "Show a histogram of all of the elements in the dataframe"
   ]
  },
  {
   "cell_type": "code",
   "execution_count": null,
   "metadata": {},
   "outputs": [],
   "source": [
    "df.hist()"
   ]
  },
  {
   "cell_type": "markdown",
   "metadata": {},
   "source": [
    "Principal Component Analysis (PCA) is used as a dimensionality reduction technique to take multiple dimensions and reduce them down to only the principal components that can be used in subsequent steps.  The impacts of this will need to be evaluated further to understand"
   ]
  },
  {
   "cell_type": "markdown",
   "metadata": {},
   "source": [
    "In my research I learned different ways to conduct PCA.  I'm not sure of the impacts between this version and prior version.  Need to research"
   ]
  },
  {
   "cell_type": "code",
   "execution_count": null,
   "metadata": {},
   "outputs": [],
   "source": [
    "import plotly.express as px\n",
    "from sklearn.decomposition import PCA\n",
    "\n",
    "df2 = df\n",
    "features = ['Enrollment Percent_Low-Income', 'Enrollment Percent_SoC',\n",
    "       'SBA ELA 3Y Average Percent_Low-Income',\n",
    "       'SBA ELA 3Y Average Percent_SoC',\n",
    "       'SBA Math 3Y Average Percent_Low-Income',\n",
    "       'SBA Math 3Y Average Percent_SoC']\n",
    "\n",
    "pca = PCA(n_components=3)\n",
    "components = pca.fit_transform(df2[features])\n",
    "labels = {\n",
    "    str(i): f\"PC {i+1} ({var:.1f}%)\"\n",
    "    for i, var in enumerate(pca.explained_variance_ratio_ * 100)\n",
    "}\n",
    "total_var = pca.explained_variance_ratio_.sum() * 100\n",
    "\n",
    "fig = px.scatter_matrix(\n",
    "    components,\n",
    "    labels=labels,\n",
    "    dimensions=range(3),\n",
    "    title=f'Total Explained Variance: {total_var:.2f}%'\n",
    ")\n",
    "fig.update_traces(diagonal_visible=True)\n",
    "fig.show()\n",
    "\n",
    "#Source of chart https://plotly.com/python/pca-visualization/"
   ]
  },
  {
   "cell_type": "markdown",
   "metadata": {},
   "source": [
    "Next step is to use KMeans to determine the number of clusters based on the inertias.  The point at the bend in the curve in chart below determines best number of clusters to used based on the data.  In this case 5 was chosen"
   ]
  },
  {
   "cell_type": "code",
   "execution_count": null,
   "metadata": {},
   "outputs": [],
   "source": [
    "#fit the KMeans with results from PCA\n",
    "from sklearn.cluster import KMeans\n",
    "wcss=[]\n",
    "for i in range(1,21):\n",
    "    kmeans_pca=KMeans(n_clusters=i, init='k-means++', random_state=42)\n",
    "    kmeans_pca.fit(components)\n",
    "    wcss.append(kmeans_pca.inertia_)\n",
    "\n",
    "plt.figure(figsize=(10,8))\n",
    "plt.plot(range(1,21),wcss,marker='o',linestyle='--')\n",
    "plt.xlabel('Number of Clusters')\n",
    "plt.ylabel('KMeans with PCA Clustering')\n",
    "plt.show()"
   ]
  },
  {
   "cell_type": "code",
   "execution_count": null,
   "metadata": {},
   "outputs": [],
   "source": [
    "kmeans_pca = KMeans(n_clusters=5, init='k-means++', random_state=42)\n",
    "kmeans_pca.fit(components)"
   ]
  },
  {
   "cell_type": "markdown",
   "metadata": {},
   "source": [
    "This step takes the results of the components in KMeans and combines with the original dataframe to create a dataframe that can be exported for further analysis"
   ]
  },
  {
   "cell_type": "code",
   "execution_count": null,
   "metadata": {},
   "outputs": [],
   "source": [
    "df_segm_pca_kmeans = pd.concat([df.reset_index(drop=False),pd.DataFrame(components)],axis=1)\n",
    "df_segm_pca_kmeans.columns.values[-3:] = ['Component 1', 'Component 2','Component 3']\n",
    "df_segm_pca_kmeans['Segment KMeans PCA'] = kmeans_pca.labels_\n",
    "df_segm_pca_kmeans.reset_index()\n",
    "df_segm_pca_kmeans.head()"
   ]
  },
  {
   "cell_type": "markdown",
   "metadata": {},
   "source": [
    "Adds a \"Segment\" column to rename the index numbers to other values.  The values first, second, etc can be named anything we want."
   ]
  },
  {
   "cell_type": "code",
   "execution_count": null,
   "metadata": {},
   "outputs": [],
   "source": [
    "df_segm_pca_kmeans['Segment'] = df_segm_pca_kmeans['Segment KMeans PCA'].map({0:'first', 1:'second',2:'third',3:'fourth',4:\n",
    "                                                                             'fifth'})"
   ]
  },
  {
   "cell_type": "markdown",
   "metadata": {},
   "source": [
    "Creates a correlation matrix to show the relationsips between all of the various features."
   ]
  },
  {
   "cell_type": "code",
   "execution_count": null,
   "metadata": {},
   "outputs": [],
   "source": [
    "import matplotlib.pyplot as plt\n",
    "\n",
    "df_merged = df_segm_pca_kmeans\n",
    "#plt.matshow(df_merged.corr())\n",
    "#plt.show()\n",
    "\n",
    "f = plt.figure(figsize=(19, 15))\n",
    "plt.matshow(df_merged.corr(), fignum=f.number)\n",
    "plt.xticks(range(df_merged.shape[1]), df_merged.columns, fontsize=14, rotation=90)\n",
    "plt.yticks(range(df_merged.shape[1]), df_merged.columns, fontsize=14)\n",
    "cb = plt.colorbar()\n",
    "cb.ax.tick_params(labelsize=14)\n",
    "plt.title('Correlation Matrix', fontsize=8);"
   ]
  },
  {
   "cell_type": "markdown",
   "metadata": {},
   "source": [
    "The results dataframe is merged back with the original dataframe to bring the school code back in for future integration"
   ]
  },
  {
   "cell_type": "code",
   "execution_count": null,
   "metadata": {},
   "outputs": [],
   "source": [
    "df2 = df_merged.merge(df)\n",
    "df2.head()"
   ]
  },
  {
   "cell_type": "markdown",
   "metadata": {},
   "source": [
    "Step to bring in information about schools to add School Name, Lat, Long and other features of a school"
   ]
  },
  {
   "cell_type": "code",
   "execution_count": null,
   "metadata": {},
   "outputs": [],
   "source": [
    "GeoCodeData = pd.read_excel(r'C:\\Users\\ted\\Viztric Dropbox\\Ted Corbett\\Gates - Charter Assessment Analytics\\Data\\School and Demographic Data\\School and Demographic Dimension - GeoCoded.xlsx')\n",
    "GeoCodeData.head()  "
   ]
  },
  {
   "cell_type": "markdown",
   "metadata": {},
   "source": [
    "Create a smaller dataframe to only bring in relevant values to merge "
   ]
  },
  {
   "cell_type": "code",
   "execution_count": null,
   "metadata": {},
   "outputs": [],
   "source": [
    "GeoCodeData_local_thin = GeoCodeData[['SchoolCode','School Name','Lat','Lon']]"
   ]
  },
  {
   "cell_type": "markdown",
   "metadata": {},
   "source": [
    "Merge the Cluster dataset with the GeoCodeData to create a complete list per school"
   ]
  },
  {
   "cell_type": "code",
   "execution_count": null,
   "metadata": {
    "scrolled": true
   },
   "outputs": [],
   "source": [
    "df_kmeans_pca_geo = df2.merge(GeoCodeData_local_thin, left_on='School Code', right_on='SchoolCode', how='inner')\n",
    "df_kmeans_pca_geo.head()"
   ]
  },
  {
   "cell_type": "markdown",
   "metadata": {},
   "source": [
    "Export the final dataframe to a csv to be used for Tableau"
   ]
  },
  {
   "cell_type": "code",
   "execution_count": null,
   "metadata": {},
   "outputs": [],
   "source": [
    "df_kmeans_pca_geo.to_csv('df_kmeans_pca_geo.csv')"
   ]
  }
 ],
 "metadata": {
  "kernelspec": {
   "display_name": "Python 3",
   "language": "python",
   "name": "python3"
  },
  "language_info": {
   "codemirror_mode": {
    "name": "ipython",
    "version": 3
   },
   "file_extension": ".py",
   "mimetype": "text/x-python",
   "name": "python",
   "nbconvert_exporter": "python",
   "pygments_lexer": "ipython3",
   "version": "3.7.3"
  }
 },
 "nbformat": 4,
 "nbformat_minor": 2
}
